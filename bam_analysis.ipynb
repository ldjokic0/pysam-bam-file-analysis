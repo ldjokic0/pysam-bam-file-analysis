{
  "cells": [
    {
      "cell_type": "markdown",
      "metadata": {
        "id": "HSS01B4BnBFS"
      },
      "source": [
        "#Analyzis of the BAM file with pysam python module"
      ]
    },
    {
      "cell_type": "markdown",
      "metadata": {
        "id": "ugiu5An_PKQ5"
      },
      "source": [
        "Pysam documentation: https://buildmedia.readthedocs.org/media/pdf/pysam/latest/pysam.pdf"
      ]
    },
    {
      "cell_type": "markdown",
      "metadata": {
        "id": "w5J4lNpGNQl9"
      },
      "source": [
        "Installation of the pysam package\n",
        "\n",
        "**Note:** pysam package installation does not work on Windows, reffer to the explanation: https://stackoverflow.com/a/60199392"
      ]
    },
    {
      "cell_type": "code",
      "execution_count": 36,
      "metadata": {
        "colab": {
          "base_uri": "https://localhost:8080/"
        },
        "id": "DZNTcIT6cT9r",
        "outputId": "67b43697-293f-49b0-989a-c0d678624fd3"
      },
      "outputs": [
        {
          "name": "stdout",
          "output_type": "stream",
          "text": [
            "Looking in indexes: https://pypi.org/simple, https://us-python.pkg.dev/colab-wheels/public/simple/\n",
            "Requirement already satisfied: pysam in /usr/local/lib/python3.9/dist-packages (0.20.0)\n"
          ]
        }
      ],
      "source": [
        "!pip install pysam"
      ]
    },
    {
      "cell_type": "code",
      "execution_count": 37,
      "metadata": {
        "id": "11mzepXMcXHV"
      },
      "outputs": [],
      "source": [
        "import pysam"
      ]
    },
    {
      "cell_type": "code",
      "execution_count": 38,
      "metadata": {
        "colab": {
          "base_uri": "https://localhost:8080/"
        },
        "id": "OATqmt5veOpB",
        "outputId": "be5fc102-af20-4996-d22d-9cba1c5b4ba9"
      },
      "outputs": [
        {
          "name": "stdout",
          "output_type": "stream",
          "text": [
            "[Errno 2] No such file or directory: 'drive/MyDrive/'\n",
            "/content/drive/MyDrive\n"
          ]
        }
      ],
      "source": [
        "# Working on google collab so dir is changed to the location of the bam file\n",
        "%cd drive/MyDrive/"
      ]
    },
    {
      "cell_type": "markdown",
      "metadata": {
        "id": "Sw_QmHZAOcKa"
      },
      "source": [
        "Loading of the bam file."
      ]
    },
    {
      "cell_type": "code",
      "execution_count": 39,
      "metadata": {
        "id": "8wZKfBoBOVKC"
      },
      "outputs": [],
      "source": [
        "bamfile = pysam.AlignmentFile(\"merged-normal.bam\", \"rb\")"
      ]
    },
    {
      "cell_type": "code",
      "execution_count": 40,
      "metadata": {
        "colab": {
          "base_uri": "https://localhost:8080/"
        },
        "id": "TlmpfpVDeAFo",
        "outputId": "40c8792b-2d10-4d30-f45d-79aed9f32ad0"
      },
      "outputs": [
        {
          "name": "stdout",
          "output_type": "stream",
          "text": [
            "D0MBKACXX120224:2:2206:17237:35667\t99\t#20\t9483248\t27\t76M\t#20\t9483399\t227\tCTTTTCAAACAGTATCTATGCCTGCCAAATGTGAACATATAAAAAAAAACCAGAATGTGCCATTCTGATTTAAACT\tarray('B', [32, 33, 29, 29, 33, 37, 32, 37, 35, 40, 35, 41, 30, 31, 31, 41, 35, 30, 31, 39, 39, 38, 35, 41, 39, 38, 34, 36, 36, 31, 41, 31, 41, 33, 36, 40, 35, 31, 32, 31, 32, 36, 37, 36, 36, 36, 36, 36, 37, 40, 38, 35, 41, 34, 37, 31, 42, 31, 40, 38, 37, 33, 31, 31, 38, 36, 40, 34, 31, 34, 31, 30, 33, 30, 32, 33])\t[('XA', 'GL000217.1,-110755,76M,1;'), ('BD', 'NNNNNNNNNNNNNNNNNNNNNNNNNNNNNNNNNNNNNNNNNNNNNNNNNNNNNNNNNNNNNNNNNNNNNNNNNNNN'), ('MD', '76'), ('RG', '1'), ('BI', 'NNNNNNNNNNNNNNNNNNNNNNNNNNNNNNNNNNNNNNNNNNNNNNNNNNNNNNNNNNNNNNNNNNNNNNNNNNNN'), ('NM', 0), ('MQ', 27), ('AS', 76), ('XS', 71)] \n",
            "\n",
            "Flag:  99\n"
          ]
        }
      ],
      "source": [
        "for first_read in bamfile.head(1):\n",
        "        print(first_read, \"\\n\")\n",
        "\n",
        "print(\"Flag: \", first_read.flag)"
      ]
    },
    {
      "cell_type": "markdown",
      "metadata": {
        "id": "y7b1PDRohdDM"
      },
      "source": [
        "Decoding of the bam flags can be done on: https://broadinstitute.github.io/picard/explain-flags.html\n",
        "<br>\n",
        "Flag is bitwise, and each bit explaines one of the properties listed in the provided link."
      ]
    },
    {
      "cell_type": "code",
      "execution_count": 41,
      "metadata": {
        "id": "Vk7Fzo_ItZOy"
      },
      "outputs": [],
      "source": [
        "unique_flags = set()"
      ]
    },
    {
      "cell_type": "code",
      "execution_count": 42,
      "metadata": {
        "colab": {
          "base_uri": "https://localhost:8080/"
        },
        "id": "GrLuogo5ibJM",
        "outputId": "434b661d-71c2-4a54-ebb8-e50e77e583e4"
      },
      "outputs": [
        {
          "name": "stdout",
          "output_type": "stream",
          "text": [
            "There are 36 unique flags:\n",
            "[65, 69, 73, 81, 83, 97, 99, 113, 117, 121, 129, 133, 137, 145, 147, 161, 163, 177, 181, 185, 1089, 1097, 1105, 1107, 1121, 1123, 1137, 1145, 1153, 1157, 1169, 1171, 1185, 1187, 1201, 1205]\n"
          ]
        }
      ],
      "source": [
        "for read in bamfile.fetch(multiple_iterators=True):\n",
        "  unique_flags.add(read.flag)\n",
        "\n",
        "print(f\"There are {len(unique_flags)} unique flags:\")\n",
        "print(sorted(unique_flags))"
      ]
    },
    {
      "cell_type": "markdown",
      "metadata": {
        "id": "cL6kUrwkwnFs"
      },
      "source": [
        "### Analyze bam file:\n",
        "\n",
        "1. What is the total number of reads in the file?\n",
        "2. How many unmapped reads are in the file?\n",
        "3. How many reads have mapping quality equal to 0?\n",
        "4. What is the average mapping quality for all the reads?\n",
        "5. What is the average mapping quality if reads with mapping quality equal to 0 are filtered out?"
      ]
    },
    {
      "cell_type": "code",
      "execution_count": 43,
      "metadata": {
        "colab": {
          "base_uri": "https://localhost:8080/"
        },
        "id": "ZlRCyhoFv_pe",
        "outputId": "01877745-e5fb-4566-d7d2-4468c6284ae8"
      },
      "outputs": [
        {
          "name": "stdout",
          "output_type": "stream",
          "text": [
            "1. Total number of reads in the file is 1717401.\n",
            "2. There are 12290 unmapped reads in the file.\n",
            "3. There are 79442 reads with mapping quality equal to 0.\n",
            "4. Average mapping quality for all the reads is 55.854162190426116.\n",
            "5. Average mapping quality if reads with mapping quality equal to 0 are filtered out is 56.25674457557309.\n"
          ]
        }
      ],
      "source": [
        "total_num_reads = 0\n",
        "unmapped_reads = 0\n",
        "mapping_quality_equal_0 = 0\n",
        "sum_mapping_quality, sum_mapping_quality_filtered = 0, 0\n",
        "\n",
        "for read in bamfile.fetch():\n",
        "    if read.is_unmapped:\n",
        "        unmapped_reads += 1\n",
        "    if read.mapping_quality == 0:\n",
        "        mapping_quality_equal_0 += 1\n",
        "    else:\n",
        "        sum_mapping_quality_filtered += read.mapping_quality\n",
        "\n",
        "    sum_mapping_quality += read.mapping_quality\n",
        "    total_num_reads +=1\n",
        "\n",
        "print(f\"1. Total number of reads in the file is {total_num_reads}.\")\n",
        "print(f\"2. There are {unmapped_reads} unmapped reads in the file.\")\n",
        "print(f\"3. There are {mapping_quality_equal_0} reads with mapping quality equal to 0.\")\n",
        "\n",
        "avg_mapping_quality = sum_mapping_quality / total_num_reads\n",
        "avg_mapping_quality_filtered = sum_mapping_quality_filtered / (total_num_reads - mapping_quality_equal_0)\n",
        "\n",
        "print(f\"4. Average mapping quality for all the reads is {avg_mapping_quality}.\")\n",
        "print(f\"5. Average mapping quality if reads with mapping quality equal to 0 are filtered out is {avg_mapping_quality_filtered}.\")\n",
        "\n",
        "bamfile.close()"
      ]
    }
  ],
  "metadata": {
    "colab": {
      "provenance": []
    },
    "kernelspec": {
      "display_name": "Python 3",
      "name": "python3"
    },
    "language_info": {
      "name": "python"
    }
  },
  "nbformat": 4,
  "nbformat_minor": 0
}
