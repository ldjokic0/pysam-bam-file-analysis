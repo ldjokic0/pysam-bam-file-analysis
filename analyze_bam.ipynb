{
  "nbformat": 4,
  "nbformat_minor": 0,
  "metadata": {
    "colab": {
      "provenance": []
    },
    "kernelspec": {
      "name": "python3",
      "display_name": "Python 3"
    },
    "language_info": {
      "name": "python"
    }
  },
  "cells": [
    {
      "cell_type": "markdown",
      "source": [
        "#Analyzis of the BAM file with pysam python module"
      ],
      "metadata": {
        "id": "HSS01B4BnBFS"
      }
    },
    {
      "cell_type": "markdown",
      "source": [
        "Pysam documentation: https://buildmedia.readthedocs.org/media/pdf/pysam/latest/pysam.pdf"
      ],
      "metadata": {
        "id": "ugiu5An_PKQ5"
      }
    },
    {
      "cell_type": "markdown",
      "source": [
        "Installation of the pysam package\n",
        "\n",
        "**Note:** pysam package installation does not work on Windows, reffer to the explanation: https://stackoverflow.com/a/60199392"
      ],
      "metadata": {
        "id": "w5J4lNpGNQl9"
      }
    },
    {
      "cell_type": "code",
      "execution_count": null,
      "metadata": {
        "colab": {
          "base_uri": "https://localhost:8080/"
        },
        "id": "DZNTcIT6cT9r",
        "outputId": "ebe5b413-7498-43b5-c410-c701fd85c3f9"
      },
      "outputs": [
        {
          "output_type": "stream",
          "name": "stdout",
          "text": [
            "Looking in indexes: https://pypi.org/simple, https://us-python.pkg.dev/colab-wheels/public/simple/\n",
            "Requirement already satisfied: pysam in /usr/local/lib/python3.8/dist-packages (0.20.0)\n"
          ]
        }
      ],
      "source": [
        "!pip install pysam"
      ]
    },
    {
      "cell_type": "code",
      "source": [
        "import pysam"
      ],
      "metadata": {
        "id": "11mzepXMcXHV"
      },
      "execution_count": null,
      "outputs": []
    },
    {
      "cell_type": "code",
      "source": [
        "# Working on google collab so dir is changed to the location of the bam file\n",
        "%cd drive/MyDrive/"
      ],
      "metadata": {
        "colab": {
          "base_uri": "https://localhost:8080/"
        },
        "id": "OATqmt5veOpB",
        "outputId": "5223ce68-f7bd-41f7-955c-70e528e0c273"
      },
      "execution_count": null,
      "outputs": [
        {
          "output_type": "stream",
          "name": "stdout",
          "text": [
            "[Errno 2] No such file or directory: 'drive/MyDrive/'\n",
            "/content/drive/MyDrive\n"
          ]
        }
      ]
    },
    {
      "cell_type": "code",
      "source": [
        "pwd"
      ],
      "metadata": {
        "colab": {
          "base_uri": "https://localhost:8080/",
          "height": 36
        },
        "id": "pAqMGfVj883G",
        "outputId": "82a94b6e-f912-4120-a068-eb0fbdead1ef"
      },
      "execution_count": null,
      "outputs": [
        {
          "output_type": "execute_result",
          "data": {
            "text/plain": [
              "'/content/drive/MyDrive'"
            ],
            "application/vnd.google.colaboratory.intrinsic+json": {
              "type": "string"
            }
          },
          "metadata": {},
          "execution_count": 100
        }
      ]
    },
    {
      "cell_type": "markdown",
      "source": [
        "Loading of the bam file."
      ],
      "metadata": {
        "id": "Sw_QmHZAOcKa"
      }
    },
    {
      "cell_type": "code",
      "source": [
        "bamfile = pysam.AlignmentFile(\"merged-normal.bam\", \"rb\")"
      ],
      "metadata": {
        "id": "8wZKfBoBOVKC"
      },
      "execution_count": null,
      "outputs": []
    },
    {
      "cell_type": "code",
      "source": [
        "for first_read in bamfile.head(1):\n",
        "        print(first_read, \"\\n\")\n",
        "\n",
        "print(\"Flag: \", first_read.flag)"
      ],
      "metadata": {
        "id": "TlmpfpVDeAFo",
        "colab": {
          "base_uri": "https://localhost:8080/"
        },
        "outputId": "e58f84a7-f0c3-44c1-ab35-aa5098642612"
      },
      "execution_count": null,
      "outputs": [
        {
          "output_type": "stream",
          "name": "stdout",
          "text": [
            "D0MBKACXX120224:2:2206:17237:35667\t99\t#20\t9483248\t27\t76M\t#20\t9483399\t227\tCTTTTCAAACAGTATCTATGCCTGCCAAATGTGAACATATAAAAAAAAACCAGAATGTGCCATTCTGATTTAAACT\tarray('B', [32, 33, 29, 29, 33, 37, 32, 37, 35, 40, 35, 41, 30, 31, 31, 41, 35, 30, 31, 39, 39, 38, 35, 41, 39, 38, 34, 36, 36, 31, 41, 31, 41, 33, 36, 40, 35, 31, 32, 31, 32, 36, 37, 36, 36, 36, 36, 36, 37, 40, 38, 35, 41, 34, 37, 31, 42, 31, 40, 38, 37, 33, 31, 31, 38, 36, 40, 34, 31, 34, 31, 30, 33, 30, 32, 33])\t[('XA', 'GL000217.1,-110755,76M,1;'), ('BD', 'NNNNNNNNNNNNNNNNNNNNNNNNNNNNNNNNNNNNNNNNNNNNNNNNNNNNNNNNNNNNNNNNNNNNNNNNNNNN'), ('MD', '76'), ('RG', '1'), ('BI', 'NNNNNNNNNNNNNNNNNNNNNNNNNNNNNNNNNNNNNNNNNNNNNNNNNNNNNNNNNNNNNNNNNNNNNNNNNNNN'), ('NM', 0), ('MQ', 27), ('AS', 76), ('XS', 71)] \n",
            "\n",
            "Flag:  99\n"
          ]
        }
      ]
    },
    {
      "cell_type": "markdown",
      "source": [
        "Decoding of the bam flags can be done on: https://broadinstitute.github.io/picard/explain-flags.html\n",
        "<br>\n",
        "Flag is bitwise, and each bit explaines one of the properties listed in the provided link."
      ],
      "metadata": {
        "id": "y7b1PDRohdDM"
      }
    },
    {
      "cell_type": "code",
      "source": [
        "unique_flags = set()"
      ],
      "metadata": {
        "id": "Vk7Fzo_ItZOy"
      },
      "execution_count": null,
      "outputs": []
    },
    {
      "cell_type": "code",
      "source": [
        "for read in bamfile:\n",
        "  unique_flags.add(read.flag)\n",
        "\n",
        "print(f\"There are {len(unique_flags)} unique flags:\")\n",
        "print(sorted(unique_flags))"
      ],
      "metadata": {
        "colab": {
          "base_uri": "https://localhost:8080/"
        },
        "id": "GrLuogo5ibJM",
        "outputId": "81f6e305-8558-400c-d317-87131919a15a"
      },
      "execution_count": null,
      "outputs": [
        {
          "output_type": "stream",
          "name": "stdout",
          "text": [
            "There are 36 unique flags:\n",
            "[65, 69, 73, 81, 83, 97, 99, 113, 117, 121, 129, 133, 137, 145, 147, 161, 163, 177, 181, 185, 1089, 1097, 1105, 1107, 1121, 1123, 1137, 1145, 1153, 1157, 1169, 1171, 1185, 1187, 1201, 1205]\n"
          ]
        }
      ]
    },
    {
      "cell_type": "markdown",
      "source": [
        "### Analyze bam file:\n",
        "\n",
        "1. What is the total number of reads in the file?\n",
        "2. How many unmapped reads are in the file?\n",
        "3. How many reads have mapping quality equal to 0?\n",
        "4. What is the average mapping quality for all the reads?\n",
        "5. What is the average mapping quality if reads with mapping quality equal to 0 are filtered out?"
      ],
      "metadata": {
        "id": "cL6kUrwkwnFs"
      }
    },
    {
      "cell_type": "code",
      "source": [
        "unmapped_reads = 0\n",
        "mapping_quality_equal_0 = 0\n",
        "sum_mapping_quality, sum_mapping_quality_filtered = 0, 0\n",
        "\n",
        "total_num_reads = bamfile.count(until_eof=True)\n",
        "\n",
        "for read in bamfile:\n",
        "    if read.is_unmapped:\n",
        "        unmapped_reads += 1\n",
        "    if read.mapping_quality == 0:\n",
        "        mapping_quality_equal_0 += 1\n",
        "    else:\n",
        "        sum_mapping_quality_filtered += read.mapping_quality\n",
        "\n",
        "    sum_mapping_quality += read.mapping_quality\n",
        "\n",
        "print(f\"1. Total number of reads in the file is {total_num_reads}.\")\n",
        "print(f\"2. There are {unmapped_reads} unmapped reads in the file.\")\n",
        "print(f\"3. There are {mapping_quality_equal_0} reads with mapping quality equal to 0.\")\n",
        "\n",
        "avg_mapping_quality = sum_mapping_quality / total_num_reads\n",
        "avg_mapping_quality_filtered = sum_mapping_quality_filtered / (total_num_reads - unmapped_reads)\n",
        "\n",
        "print(f\"4. Average mapping quality for all the reads is {avg_mapping_quality}.\")\n",
        "print(f\"4. Average mapping quality for all the reads is {avg_mapping_quality}.\")\n",
        "print(f\"5. Average mapping quality if reads with mapping quality equal to 0 are filtered out is {avg_mapping_quality_filtered}.\")\n"
      ],
      "metadata": {
        "colab": {
          "base_uri": "https://localhost:8080/",
          "height": 287
        },
        "id": "ZlRCyhoFv_pe",
        "outputId": "4515701c-5f37-4483-dd77-20fa03d2608e"
      },
      "execution_count": null,
      "outputs": [
        {
          "output_type": "stream",
          "name": "stdout",
          "text": [
            "1. Total number of reads in the file is 0.\n",
            "2. There are 0 unmapped reads in the file.\n",
            "3. There are 0 reads with mapping quality equal to 0.\n"
          ]
        },
        {
          "output_type": "error",
          "ename": "ZeroDivisionError",
          "evalue": "ignored",
          "traceback": [
            "\u001b[0;31m---------------------------------------------------------------------------\u001b[0m",
            "\u001b[0;31mZeroDivisionError\u001b[0m                         Traceback (most recent call last)",
            "\u001b[0;32m<ipython-input-104-a067debcfcbe>\u001b[0m in \u001b[0;36m<module>\u001b[0;34m\u001b[0m\n\u001b[1;32m     19\u001b[0m \u001b[0mprint\u001b[0m\u001b[0;34m(\u001b[0m\u001b[0;34mf\"3. There are {mapping_quality_equal_0} reads with mapping quality equal to 0.\"\u001b[0m\u001b[0;34m)\u001b[0m\u001b[0;34m\u001b[0m\u001b[0;34m\u001b[0m\u001b[0m\n\u001b[1;32m     20\u001b[0m \u001b[0;34m\u001b[0m\u001b[0m\n\u001b[0;32m---> 21\u001b[0;31m \u001b[0mavg_mapping_quality\u001b[0m \u001b[0;34m=\u001b[0m \u001b[0msum_mapping_quality\u001b[0m \u001b[0;34m/\u001b[0m \u001b[0mtotal_num_reads\u001b[0m\u001b[0;34m\u001b[0m\u001b[0;34m\u001b[0m\u001b[0m\n\u001b[0m\u001b[1;32m     22\u001b[0m \u001b[0mavg_mapping_quality_filtered\u001b[0m \u001b[0;34m=\u001b[0m \u001b[0msum_mapping_quality_filtered\u001b[0m \u001b[0;34m/\u001b[0m \u001b[0;34m(\u001b[0m\u001b[0mtotal_num_reads\u001b[0m \u001b[0;34m-\u001b[0m \u001b[0munmapped_reads\u001b[0m\u001b[0;34m)\u001b[0m\u001b[0;34m\u001b[0m\u001b[0;34m\u001b[0m\u001b[0m\n\u001b[1;32m     23\u001b[0m \u001b[0;34m\u001b[0m\u001b[0m\n",
            "\u001b[0;31mZeroDivisionError\u001b[0m: division by zero"
          ]
        }
      ]
    }
  ]
}